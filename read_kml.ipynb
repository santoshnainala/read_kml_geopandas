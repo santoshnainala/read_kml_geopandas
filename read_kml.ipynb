{
 "cells": [
  {
   "cell_type": "code",
   "execution_count": 6,
   "id": "7ac81285",
   "metadata": {},
   "outputs": [
    {
     "name": "stdout",
     "output_type": "stream",
     "text": [
      "Collecting geopandas\n",
      "  Downloading geopandas-0.12.1-py3-none-any.whl (1.1 MB)\n",
      "Collecting fiona>=1.8\n",
      "  Downloading Fiona-1.8.22-cp38-cp38-win_amd64.whl (21.7 MB)\n",
      "Collecting pyproj>=2.6.1.post1\n",
      "  Downloading pyproj-3.4.0-cp38-cp38-win_amd64.whl (4.8 MB)\n",
      "Requirement already satisfied: packaging in c:\\users\\91799\\anaconda3\\lib\\site-packages (from geopandas) (20.9)\n",
      "Requirement already satisfied: pandas>=1.0.0 in c:\\users\\91799\\anaconda3\\lib\\site-packages (from geopandas) (1.2.4)\n",
      "Collecting shapely>=1.7\n",
      "  Downloading Shapely-1.8.5.post1-cp38-cp38-win_amd64.whl (1.3 MB)\n",
      "Requirement already satisfied: attrs>=17 in c:\\users\\91799\\anaconda3\\lib\\site-packages (from fiona>=1.8->geopandas) (20.3.0)\n",
      "Collecting click-plugins>=1.0\n",
      "  Downloading click_plugins-1.1.1-py2.py3-none-any.whl (7.5 kB)\n",
      "Collecting cligj>=0.5\n",
      "  Downloading cligj-0.7.2-py3-none-any.whl (7.1 kB)\n",
      "Requirement already satisfied: setuptools in c:\\users\\91799\\anaconda3\\lib\\site-packages (from fiona>=1.8->geopandas) (52.0.0.post20210125)\n",
      "Requirement already satisfied: certifi in c:\\users\\91799\\anaconda3\\lib\\site-packages (from fiona>=1.8->geopandas) (2020.12.5)\n",
      "Collecting munch\n",
      "  Downloading munch-2.5.0-py2.py3-none-any.whl (10 kB)\n",
      "Requirement already satisfied: six>=1.7 in c:\\users\\91799\\anaconda3\\lib\\site-packages (from fiona>=1.8->geopandas) (1.15.0)\n",
      "Requirement already satisfied: click>=4.0 in c:\\users\\91799\\anaconda3\\lib\\site-packages (from fiona>=1.8->geopandas) (7.1.2)\n",
      "Requirement already satisfied: numpy>=1.16.5 in c:\\users\\91799\\anaconda3\\lib\\site-packages (from pandas>=1.0.0->geopandas) (1.20.1)\n",
      "Requirement already satisfied: python-dateutil>=2.7.3 in c:\\users\\91799\\anaconda3\\lib\\site-packages (from pandas>=1.0.0->geopandas) (2.8.1)\n",
      "Requirement already satisfied: pytz>=2017.3 in c:\\users\\91799\\anaconda3\\lib\\site-packages (from pandas>=1.0.0->geopandas) (2021.1)\n",
      "Requirement already satisfied: pyparsing>=2.0.2 in c:\\users\\91799\\anaconda3\\lib\\site-packages (from packaging->geopandas) (2.4.7)\n",
      "Installing collected packages: munch, cligj, click-plugins, shapely, pyproj, fiona, geopandas\n",
      "Successfully installed click-plugins-1.1.1 cligj-0.7.2 fiona-1.8.22 geopandas-0.12.1 munch-2.5.0 pyproj-3.4.0 shapely-1.8.5.post1\n",
      "Note: you may need to restart the kernel to use updated packages.\n"
     ]
    }
   ],
   "source": [
    "pip install geopandas"
   ]
  },
  {
   "cell_type": "code",
   "execution_count": 13,
   "id": "70a01b97",
   "metadata": {},
   "outputs": [],
   "source": [
    "import geopandas as gpd\n",
    "import matplotlib.pyplot as plt\n",
    "gpd.io.file.fiona.drvsupport.supported_drivers['KML'] = 'rw'"
   ]
  },
  {
   "cell_type": "code",
   "execution_count": 15,
   "id": "46ffdea0",
   "metadata": {},
   "outputs": [],
   "source": [
    "fp = \"C:/Users/91799/Downloads/data/examples.kml\"\n",
    "\n",
    "polys = gpd.read_file(fp, driver='KML')"
   ]
  },
  {
   "cell_type": "code",
   "execution_count": 16,
   "id": "4e4b4ede",
   "metadata": {},
   "outputs": [
    {
     "data": {
      "text/html": [
       "<div>\n",
       "<style scoped>\n",
       "    .dataframe tbody tr th:only-of-type {\n",
       "        vertical-align: middle;\n",
       "    }\n",
       "\n",
       "    .dataframe tbody tr th {\n",
       "        vertical-align: top;\n",
       "    }\n",
       "\n",
       "    .dataframe thead th {\n",
       "        text-align: right;\n",
       "    }\n",
       "</style>\n",
       "<table border=\"1\" class=\"dataframe\">\n",
       "  <thead>\n",
       "    <tr style=\"text-align: right;\">\n",
       "      <th></th>\n",
       "      <th>Name</th>\n",
       "      <th>Description</th>\n",
       "      <th>geometry</th>\n",
       "    </tr>\n",
       "  </thead>\n",
       "  <tbody>\n",
       "    <tr>\n",
       "      <th>0</th>\n",
       "      <td>Time Square</td>\n",
       "      <td>Times Square is a major commercial intersectio...</td>\n",
       "      <td>POINT Z (-73.98494 40.75887 0.00000)</td>\n",
       "    </tr>\n",
       "    <tr>\n",
       "      <th>1</th>\n",
       "      <td>Central Park</td>\n",
       "      <td>Central Park is an urban park in middle-upper ...</td>\n",
       "      <td>POLYGON Z ((-73.98151 40.76863 0.00000, -73.95...</td>\n",
       "    </tr>\n",
       "    <tr>\n",
       "      <th>2</th>\n",
       "      <td>Lincoln Tunnel</td>\n",
       "      <td>Traffic(under 10 minutes)</td>\n",
       "      <td>LINESTRING Z (-74.02275 40.76658 0.00000, -74....</td>\n",
       "    </tr>\n",
       "  </tbody>\n",
       "</table>\n",
       "</div>"
      ],
      "text/plain": [
       "             Name                                        Description  \\\n",
       "0     Time Square  Times Square is a major commercial intersectio...   \n",
       "1    Central Park  Central Park is an urban park in middle-upper ...   \n",
       "2  Lincoln Tunnel                          Traffic(under 10 minutes)   \n",
       "\n",
       "                                            geometry  \n",
       "0               POINT Z (-73.98494 40.75887 0.00000)  \n",
       "1  POLYGON Z ((-73.98151 40.76863 0.00000, -73.95...  \n",
       "2  LINESTRING Z (-74.02275 40.76658 0.00000, -74....  "
      ]
     },
     "execution_count": 16,
     "metadata": {},
     "output_type": "execute_result"
    }
   ],
   "source": [
    "polys.head()"
   ]
  },
  {
   "cell_type": "code",
   "execution_count": null,
   "id": "eb8aaa2c",
   "metadata": {},
   "outputs": [],
   "source": []
  }
 ],
 "metadata": {
  "kernelspec": {
   "display_name": "Python 3",
   "language": "python",
   "name": "python3"
  },
  "language_info": {
   "codemirror_mode": {
    "name": "ipython",
    "version": 3
   },
   "file_extension": ".py",
   "mimetype": "text/x-python",
   "name": "python",
   "nbconvert_exporter": "python",
   "pygments_lexer": "ipython3",
   "version": "3.8.8"
  }
 },
 "nbformat": 4,
 "nbformat_minor": 5
}
